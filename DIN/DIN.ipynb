{
 "cells": [
  {
   "cell_type": "code",
   "execution_count": 1,
   "id": "c58db45c",
   "metadata": {},
   "outputs": [
    {
     "name": "stderr",
     "output_type": "stream",
     "text": [
      "/data0/ygq/anaconda3/envs/pytorch/lib/python3.9/site-packages/tqdm/auto.py:22: TqdmWarning: IProgress not found. Please update jupyter and ipywidgets. See https://ipywidgets.readthedocs.io/en/stable/user_install.html\n",
      "  from .autonotebook import tqdm as notebook_tqdm\n"
     ]
    }
   ],
   "source": [
    "import sys \n",
    "sys.path.append(\"..\")\n",
    "\n",
    "import pandas as pd\n",
    "import numpy as np\n",
    "import torch\n",
    "from DIN.data import get_amazon_data_dict  # 针对性修改\n",
    "\n",
    "from Tools.models.ranking import DIN\n",
    "from Tools.trainers import CTRTrainer\n",
    "from Tools.basic.features import DenseFeature, SparseFeature, SequenceFeature\n",
    "from Tools.utils.data import DataGenerator, generate_seq_feature, df_to_dict, pad_sequences\n",
    "\n",
    "dataset_path = '../data/amazon_electronic_datasets.csv'\n",
    "model_name='din'\n",
    "epoch = 10\n",
    "learning_rate = 1e-3\n",
    "batch_size=2048\n",
    "weight_decay=1e-3\n",
    "save_dir='./'\n",
    "seed=2023\n",
    "# device='cpu'\n",
    "device = torch.device(\"cuda\")"
   ]
  },
  {
   "cell_type": "code",
   "execution_count": 2,
   "id": "0a5c3f2d",
   "metadata": {},
   "outputs": [
    {
     "name": "stdout",
     "output_type": "stream",
     "text": [
      "========== Start Amazon ==========\n"
     ]
    },
    {
     "name": "stderr",
     "output_type": "stream",
     "text": [
      "generate sequence features: 100%|██████████████████████████████████████████| 192403/192403 [00:28<00:00, 6666.75it/s]\n"
     ]
    },
    {
     "name": "stdout",
     "output_type": "stream",
     "text": [
      "========== Generate input dict ==========\n"
     ]
    }
   ],
   "source": [
    "torch.manual_seed(seed)\n",
    "features, target_features, history_features, (train_x, train_y), (val_x, val_y), (test_x, test_y) = get_amazon_data_dict(dataset_path)\n",
    "\n",
    "dg = DataGenerator(train_x, train_y)\n",
    "train_dataloader, val_dataloader, test_dataloader = dg.generate_dataloader(x_val=val_x, y_val=val_y, x_test=test_x, y_test=test_y, batch_size=batch_size)"
   ]
  },
  {
   "cell_type": "code",
   "execution_count": 3,
   "id": "101471c1",
   "metadata": {},
   "outputs": [],
   "source": [
    "model = DIN(features=features, history_features=history_features, target_features=target_features, mlp_params={\"dims\": [256, 128]}, attention_mlp_params={\"dims\": [256, 128]})"
   ]
  },
  {
   "cell_type": "code",
   "execution_count": 4,
   "id": "45e0b340",
   "metadata": {},
   "outputs": [
    {
     "name": "stdout",
     "output_type": "stream",
     "text": [
      "epoch: 0\n"
     ]
    },
    {
     "name": "stderr",
     "output_type": "stream",
     "text": [
      "train: 100%|█████████████████████████████████████████████████████████| 1055/1055 [01:02<00:00, 16.94it/s, loss=0.513]\n",
      "validation: 100%|██████████████████████████████████████████████████████████████████| 187/187 [00:03<00:00, 50.02it/s]\n"
     ]
    },
    {
     "name": "stdout",
     "output_type": "stream",
     "text": [
      "epoch: 0 validation: auc: 0.828903882307786\n",
      "epoch: 1\n"
     ]
    },
    {
     "name": "stderr",
     "output_type": "stream",
     "text": [
      "train: 100%|█████████████████████████████████████████████████████████| 1055/1055 [01:01<00:00, 17.12it/s, loss=0.478]\n",
      "validation: 100%|██████████████████████████████████████████████████████████████████| 187/187 [00:03<00:00, 50.91it/s]\n"
     ]
    },
    {
     "name": "stdout",
     "output_type": "stream",
     "text": [
      "epoch: 1 validation: auc: 0.8469871425097393\n",
      "epoch: 2\n"
     ]
    },
    {
     "name": "stderr",
     "output_type": "stream",
     "text": [
      "train: 100%|█████████████████████████████████████████████████████████| 1055/1055 [01:01<00:00, 17.04it/s, loss=0.468]\n",
      "validation: 100%|██████████████████████████████████████████████████████████████████| 187/187 [00:03<00:00, 50.59it/s]\n"
     ]
    },
    {
     "name": "stdout",
     "output_type": "stream",
     "text": [
      "epoch: 2 validation: auc: 0.8492505874301626\n",
      "epoch: 3\n"
     ]
    },
    {
     "name": "stderr",
     "output_type": "stream",
     "text": [
      "train: 100%|█████████████████████████████████████████████████████████| 1055/1055 [01:02<00:00, 16.90it/s, loss=0.468]\n",
      "validation: 100%|██████████████████████████████████████████████████████████████████| 187/187 [00:03<00:00, 50.53it/s]\n"
     ]
    },
    {
     "name": "stdout",
     "output_type": "stream",
     "text": [
      "epoch: 3 validation: auc: 0.8516600810587673\n",
      "epoch: 4\n"
     ]
    },
    {
     "name": "stderr",
     "output_type": "stream",
     "text": [
      "train: 100%|█████████████████████████████████████████████████████████| 1055/1055 [01:02<00:00, 16.87it/s, loss=0.471]\n",
      "validation: 100%|██████████████████████████████████████████████████████████████████| 187/187 [00:03<00:00, 50.32it/s]\n"
     ]
    },
    {
     "name": "stdout",
     "output_type": "stream",
     "text": [
      "epoch: 4 validation: auc: 0.8472441149565846\n",
      "epoch: 5\n"
     ]
    },
    {
     "name": "stderr",
     "output_type": "stream",
     "text": [
      "train: 100%|█████████████████████████████████████████████████████████| 1055/1055 [01:01<00:00, 17.09it/s, loss=0.463]\n",
      "validation: 100%|██████████████████████████████████████████████████████████████████| 187/187 [00:03<00:00, 51.89it/s]\n"
     ]
    },
    {
     "name": "stdout",
     "output_type": "stream",
     "text": [
      "epoch: 5 validation: auc: 0.8376217021309555\n",
      "epoch: 6\n"
     ]
    },
    {
     "name": "stderr",
     "output_type": "stream",
     "text": [
      "train: 100%|█████████████████████████████████████████████████████████| 1055/1055 [01:01<00:00, 17.04it/s, loss=0.462]\n",
      "validation: 100%|██████████████████████████████████████████████████████████████████| 187/187 [00:03<00:00, 49.36it/s]\n"
     ]
    },
    {
     "name": "stdout",
     "output_type": "stream",
     "text": [
      "epoch: 6 validation: auc: 0.8466337637907028\n",
      "epoch: 7\n"
     ]
    },
    {
     "name": "stderr",
     "output_type": "stream",
     "text": [
      "train: 100%|█████████████████████████████████████████████████████████| 1055/1055 [01:02<00:00, 16.78it/s, loss=0.465]\n",
      "validation: 100%|██████████████████████████████████████████████████████████████████| 187/187 [00:03<00:00, 50.31it/s]\n"
     ]
    },
    {
     "name": "stdout",
     "output_type": "stream",
     "text": [
      "epoch: 7 validation: auc: 0.8464408795741024\n",
      "validation: best auc: 0.8516600810587673\n"
     ]
    },
    {
     "name": "stderr",
     "output_type": "stream",
     "text": [
      "validation: 100%|██████████████████████████████████████████████████████████████████| 187/187 [00:03<00:00, 50.72it/s]"
     ]
    },
    {
     "name": "stdout",
     "output_type": "stream",
     "text": [
      "test auc: 0.8461158754627309\n"
     ]
    },
    {
     "name": "stderr",
     "output_type": "stream",
     "text": [
      "\n"
     ]
    }
   ],
   "source": [
    "ctr_trainer = CTRTrainer(model, optimizer_params={\"lr\": learning_rate, \"weight_decay\": weight_decay}, n_epoch=epoch, earlystop_patience=4, device=device, model_path=save_dir)\n",
    "ctr_trainer.fit(train_dataloader, val_dataloader)\n",
    "auc = ctr_trainer.evaluate(ctr_trainer.model, test_dataloader)\n",
    "print(f'test auc: {auc}')"
   ]
  },
  {
   "cell_type": "code",
   "execution_count": null,
   "id": "a93865f5",
   "metadata": {},
   "outputs": [],
   "source": []
  }
 ],
 "metadata": {
  "kernelspec": {
   "display_name": "pytorch",
   "language": "python",
   "name": "pytorch"
  },
  "language_info": {
   "codemirror_mode": {
    "name": "ipython",
    "version": 3
   },
   "file_extension": ".py",
   "mimetype": "text/x-python",
   "name": "python",
   "nbconvert_exporter": "python",
   "pygments_lexer": "ipython3",
   "version": "3.9.13"
  }
 },
 "nbformat": 4,
 "nbformat_minor": 5
}
