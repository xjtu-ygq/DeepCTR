{
 "cells": [
  {
   "cell_type": "code",
   "execution_count": 1,
   "id": "643ea43d",
   "metadata": {},
   "outputs": [
    {
     "name": "stderr",
     "output_type": "stream",
     "text": [
      "/data0/ygq/anaconda3/envs/pytorch/lib/python3.9/site-packages/tqdm/auto.py:22: TqdmWarning: IProgress not found. Please update jupyter and ipywidgets. See https://ipywidgets.readthedocs.io/en/stable/user_install.html\n",
      "  from .autonotebook import tqdm as notebook_tqdm\n"
     ]
    }
   ],
   "source": [
    "import sys\n",
    "sys.path.append(\"..\")\n",
    "\n",
    "import os\n",
    "import numpy as np\n",
    "import pandas as pd\n",
    "import torch\n",
    "\n",
    "from sklearn.preprocessing import MinMaxScaler, LabelEncoder\n",
    "from Tools.models.matching.dssm import DSSM\n",
    "from Tools.trainers import MatchTrainer\n",
    "from Tools.basic.features import DenseFeature, SparseFeature, SequenceFeature\n",
    "from Tools.utils.match import generate_seq_feature_match, gen_model_input\n",
    "from Tools.utils.data import df_to_dict, MatchDataGenerator\n",
    "from movielens_utils import match_evaluation\n",
    "from DSSM.data import get_movielens_data\n",
    "\n",
    "dataset_path=\"../data/ml-1m.csv\"\n",
    "model_name='dssm'\n",
    "epoch=10\n",
    "learning_rate=1e-4\n",
    "batch_size=2048\n",
    "weight_decay=1e-6\n",
    "device='cpu'\n",
    "save_dir='../data/saved/'\n",
    "seed=2022"
   ]
  },
  {
   "cell_type": "code",
   "execution_count": 2,
   "id": "ba92b818",
   "metadata": {},
   "outputs": [
    {
     "name": "stdout",
     "output_type": "stream",
     "text": [
      "preprocess data\n"
     ]
    },
    {
     "name": "stderr",
     "output_type": "stream",
     "text": [
      "generate sequence features: 100%|███████████████████████████████████████████████| 6040/6040 [00:08<00:00, 691.07it/s]\n"
     ]
    },
    {
     "name": "stdout",
     "output_type": "stream",
     "text": [
      "n_train: 3952516, n_test: 6040\n",
      "0 cold start user droped \n"
     ]
    }
   ],
   "source": [
    "if not os.path.exists(save_dir):\n",
    "    os.makedirs(save_dir)\n",
    "torch.manual_seed(seed)\n",
    "user_features, item_features, x_train, y_train, all_item, test_user = get_movielens_data(dataset_path)\n",
    "dg = MatchDataGenerator(x=x_train, y=y_train)"
   ]
  },
  {
   "cell_type": "code",
   "execution_count": 3,
   "id": "10c45f21",
   "metadata": {},
   "outputs": [
    {
     "name": "stdout",
     "output_type": "stream",
     "text": [
      "epoch: 0\n"
     ]
    },
    {
     "name": "stderr",
     "output_type": "stream",
     "text": [
      "train: 100%|█████████████████████████████████████████████████████████| 1930/1930 [01:39<00:00, 19.36it/s, loss=0.567]\n"
     ]
    },
    {
     "name": "stdout",
     "output_type": "stream",
     "text": [
      "epoch: 1\n"
     ]
    },
    {
     "name": "stderr",
     "output_type": "stream",
     "text": [
      "train: 100%|█████████████████████████████████████████████████████████| 1930/1930 [01:44<00:00, 18.52it/s, loss=0.552]\n"
     ]
    },
    {
     "name": "stdout",
     "output_type": "stream",
     "text": [
      "epoch: 2\n"
     ]
    },
    {
     "name": "stderr",
     "output_type": "stream",
     "text": [
      "train: 100%|█████████████████████████████████████████████████████████| 1930/1930 [01:40<00:00, 19.24it/s, loss=0.561]\n"
     ]
    },
    {
     "name": "stdout",
     "output_type": "stream",
     "text": [
      "epoch: 3\n"
     ]
    },
    {
     "name": "stderr",
     "output_type": "stream",
     "text": [
      "train: 100%|█████████████████████████████████████████████████████████| 1930/1930 [01:40<00:00, 19.12it/s, loss=0.557]\n"
     ]
    },
    {
     "name": "stdout",
     "output_type": "stream",
     "text": [
      "epoch: 4\n"
     ]
    },
    {
     "name": "stderr",
     "output_type": "stream",
     "text": [
      "train: 100%|█████████████████████████████████████████████████████████| 1930/1930 [01:39<00:00, 19.30it/s, loss=0.555]\n"
     ]
    },
    {
     "name": "stdout",
     "output_type": "stream",
     "text": [
      "epoch: 5\n"
     ]
    },
    {
     "name": "stderr",
     "output_type": "stream",
     "text": [
      "train: 100%|█████████████████████████████████████████████████████████| 1930/1930 [01:32<00:00, 20.82it/s, loss=0.551]\n"
     ]
    },
    {
     "name": "stdout",
     "output_type": "stream",
     "text": [
      "epoch: 6\n"
     ]
    },
    {
     "name": "stderr",
     "output_type": "stream",
     "text": [
      "train: 100%|█████████████████████████████████████████████████████████| 1930/1930 [01:37<00:00, 19.88it/s, loss=0.554]\n"
     ]
    },
    {
     "name": "stdout",
     "output_type": "stream",
     "text": [
      "epoch: 7\n"
     ]
    },
    {
     "name": "stderr",
     "output_type": "stream",
     "text": [
      "train: 100%|█████████████████████████████████████████████████████████| 1930/1930 [01:38<00:00, 19.69it/s, loss=0.548]\n"
     ]
    },
    {
     "name": "stdout",
     "output_type": "stream",
     "text": [
      "epoch: 8\n"
     ]
    },
    {
     "name": "stderr",
     "output_type": "stream",
     "text": [
      "train: 100%|█████████████████████████████████████████████████████████| 1930/1930 [01:41<00:00, 19.08it/s, loss=0.555]\n"
     ]
    },
    {
     "name": "stdout",
     "output_type": "stream",
     "text": [
      "epoch: 9\n"
     ]
    },
    {
     "name": "stderr",
     "output_type": "stream",
     "text": [
      "train: 100%|██████████████████████████████████████████████████████████| 1930/1930 [01:31<00:00, 20.99it/s, loss=0.55]\n"
     ]
    }
   ],
   "source": [
    "model = DSSM(user_features,\n",
    "                 item_features,\n",
    "                 temperature=0.02,\n",
    "                 user_params={\n",
    "                     \"dims\": [256, 128, 64],\n",
    "                     \"activation\": 'prelu',  # important!!\n",
    "                 },\n",
    "                 item_params={\n",
    "                     \"dims\": [256, 128, 64],\n",
    "                     \"activation\": 'prelu',  # important!!\n",
    "                 })\n",
    "\n",
    "trainer = MatchTrainer(model,\n",
    "                       mode=0,\n",
    "                       optimizer_params={\n",
    "                           \"lr\": learning_rate,\n",
    "                           \"weight_decay\": weight_decay\n",
    "                       },\n",
    "                       n_epoch=epoch,\n",
    "                       device=device,\n",
    "                       model_path=save_dir)\n",
    "\n",
    "train_dl, test_dl, item_dl = dg.generate_dataloader(test_user, all_item, batch_size=batch_size)\n",
    "trainer.fit(train_dl)"
   ]
  },
  {
   "cell_type": "code",
   "execution_count": 4,
   "id": "670f6874",
   "metadata": {},
   "outputs": [
    {
     "name": "stdout",
     "output_type": "stream",
     "text": [
      "inference embedding\n"
     ]
    },
    {
     "name": "stderr",
     "output_type": "stream",
     "text": [
      "user inference: 100%|██████████████████████████████████████████████████████████████████| 3/3 [00:00<00:00,  6.73it/s]\n",
      "item inference: 100%|██████████████████████████████████████████████████████████████████| 2/2 [00:00<00:00,  4.80it/s]\n"
     ]
    },
    {
     "name": "stdout",
     "output_type": "stream",
     "text": [
      "evaluate embedding matching on test data\n",
      "matching for topk\n",
      "generate ground truth\n",
      "compute topk metrics\n",
      "defaultdict(<class 'list'>, {'NDCG': ['NDCG@100: 0.0496'], 'MRR': ['MRR@100: 0.0152'], 'Recall': ['Recall@100: 0.2149'], 'Hit': ['Hit@100: 0.2149'], 'Precision': ['Precision@100: 0.0021']})\n"
     ]
    }
   ],
   "source": [
    "print(\"inference embedding\")\n",
    "user_embedding = trainer.inference_embedding(model=model, mode=\"user\", data_loader=test_dl, model_path=save_dir)\n",
    "item_embedding = trainer.inference_embedding(model=model, mode=\"item\", data_loader=item_dl, model_path=save_dir)\n",
    "#torch.save(user_embedding.data.cpu(), save_dir + \"user_embedding.pth\")\n",
    "#torch.save(item_embedding.data.cpu(), save_dir + \"item_embedding.pth\")\n",
    "match_evaluation(user_embedding, item_embedding, test_user, all_item, topk=100)"
   ]
  }
 ],
 "metadata": {
  "kernelspec": {
   "display_name": "pytorch",
   "language": "python",
   "name": "pytorch"
  },
  "language_info": {
   "codemirror_mode": {
    "name": "ipython",
    "version": 3
   },
   "file_extension": ".py",
   "mimetype": "text/x-python",
   "name": "python",
   "nbconvert_exporter": "python",
   "pygments_lexer": "ipython3",
   "version": "3.9.13"
  }
 },
 "nbformat": 4,
 "nbformat_minor": 5
}
