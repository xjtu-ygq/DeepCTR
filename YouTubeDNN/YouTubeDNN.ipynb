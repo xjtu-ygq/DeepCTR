{
 "cells": [
  {
   "cell_type": "code",
   "execution_count": 1,
   "id": "0edb58b5",
   "metadata": {},
   "outputs": [
    {
     "name": "stderr",
     "output_type": "stream",
     "text": [
      "/data0/ygq/anaconda3/envs/pytorch/lib/python3.9/site-packages/tqdm/auto.py:22: TqdmWarning: IProgress not found. Please update jupyter and ipywidgets. See https://ipywidgets.readthedocs.io/en/stable/user_install.html\n",
      "  from .autonotebook import tqdm as notebook_tqdm\n"
     ]
    }
   ],
   "source": [
    "import sys\n",
    "sys.path.append(\"..\")\n",
    "\n",
    "import os\n",
    "import numpy as np\n",
    "import pandas as pd\n",
    "import torch\n",
    "\n",
    "from sklearn.preprocessing import MinMaxScaler, LabelEncoder\n",
    "from Tools.models.matching.youtube_dnn import YoutubeDNN\n",
    "from Tools.trainers import MatchTrainer\n",
    "from Tools.basic.features import DenseFeature, SparseFeature, SequenceFeature\n",
    "from Tools.utils.match import generate_seq_feature_match, gen_model_input\n",
    "from Tools.utils.data import df_to_dict, MatchDataGenerator\n",
    "from movielens_utils import match_evaluation\n",
    "from YouTubeDNN.data import get_movielens_data\n",
    "\n",
    "dataset_path=\"../data/ml-1m.csv\"\n",
    "model_name='youtubednn'\n",
    "epoch=10\n",
    "learning_rate=1e-4\n",
    "batch_size=2048\n",
    "weight_decay=1e-6\n",
    "device='cpu'\n",
    "save_dir='../data/saved/'\n",
    "seed=2022"
   ]
  },
  {
   "cell_type": "code",
   "execution_count": 2,
   "id": "57d1a1ed",
   "metadata": {},
   "outputs": [
    {
     "name": "stdout",
     "output_type": "stream",
     "text": [
      "preprocess data\n"
     ]
    },
    {
     "name": "stderr",
     "output_type": "stream",
     "text": [
      "generate sequence features: 100%|███████████████████████████████████████████████| 6040/6040 [00:07<00:00, 845.92it/s]\n"
     ]
    },
    {
     "name": "stdout",
     "output_type": "stream",
     "text": [
      "n_train: 988129, n_test: 6040\n",
      "0 cold start user droped \n"
     ]
    }
   ],
   "source": [
    "if not os.path.exists(save_dir):\n",
    "    os.makedirs(save_dir)\n",
    "torch.manual_seed(seed)\n",
    "user_features, item_features, neg_item_feature, x_train, y_train, all_item, test_user = get_movielens_data(dataset_path)\n",
    "dg = MatchDataGenerator(x=x_train, y=y_train)"
   ]
  },
  {
   "cell_type": "code",
   "execution_count": 3,
   "id": "40fcd7ff",
   "metadata": {},
   "outputs": [],
   "source": [
    "model = YoutubeDNN(user_features, item_features, neg_item_feature, user_params={\"dims\": [128, 64, 16]}, temperature=0.02)"
   ]
  },
  {
   "cell_type": "code",
   "execution_count": 4,
   "id": "505c2284",
   "metadata": {},
   "outputs": [
    {
     "name": "stdout",
     "output_type": "stream",
     "text": [
      "epoch: 0\n"
     ]
    },
    {
     "name": "stderr",
     "output_type": "stream",
     "text": [
      "train: 100%|████████████████████████████████████████████████████████████| 483/483 [00:12<00:00, 37.16it/s, loss=1.86]\n"
     ]
    },
    {
     "name": "stdout",
     "output_type": "stream",
     "text": [
      "epoch: 1\n"
     ]
    },
    {
     "name": "stderr",
     "output_type": "stream",
     "text": [
      "train: 100%|████████████████████████████████████████████████████████████| 483/483 [00:12<00:00, 39.10it/s, loss=1.54]\n"
     ]
    },
    {
     "name": "stdout",
     "output_type": "stream",
     "text": [
      "epoch: 2\n"
     ]
    },
    {
     "name": "stderr",
     "output_type": "stream",
     "text": [
      "train: 100%|█████████████████████████████████████████████████████████████| 483/483 [00:12<00:00, 39.05it/s, loss=1.4]\n"
     ]
    },
    {
     "name": "stdout",
     "output_type": "stream",
     "text": [
      "epoch: 3\n"
     ]
    },
    {
     "name": "stderr",
     "output_type": "stream",
     "text": [
      "train: 100%|████████████████████████████████████████████████████████████| 483/483 [00:12<00:00, 38.65it/s, loss=1.29]\n"
     ]
    },
    {
     "name": "stdout",
     "output_type": "stream",
     "text": [
      "epoch: 4\n"
     ]
    },
    {
     "name": "stderr",
     "output_type": "stream",
     "text": [
      "train: 100%|████████████████████████████████████████████████████████████| 483/483 [00:12<00:00, 38.76it/s, loss=1.21]\n"
     ]
    },
    {
     "name": "stdout",
     "output_type": "stream",
     "text": [
      "epoch: 5\n"
     ]
    },
    {
     "name": "stderr",
     "output_type": "stream",
     "text": [
      "train: 100%|████████████████████████████████████████████████████████████| 483/483 [00:12<00:00, 38.67it/s, loss=1.15]\n"
     ]
    },
    {
     "name": "stdout",
     "output_type": "stream",
     "text": [
      "epoch: 6\n"
     ]
    },
    {
     "name": "stderr",
     "output_type": "stream",
     "text": [
      "train: 100%|████████████████████████████████████████████████████████████| 483/483 [00:12<00:00, 38.81it/s, loss=1.11]\n"
     ]
    },
    {
     "name": "stdout",
     "output_type": "stream",
     "text": [
      "epoch: 7\n"
     ]
    },
    {
     "name": "stderr",
     "output_type": "stream",
     "text": [
      "train: 100%|████████████████████████████████████████████████████████████| 483/483 [00:12<00:00, 38.22it/s, loss=1.07]\n"
     ]
    },
    {
     "name": "stdout",
     "output_type": "stream",
     "text": [
      "epoch: 8\n"
     ]
    },
    {
     "name": "stderr",
     "output_type": "stream",
     "text": [
      "train: 100%|████████████████████████████████████████████████████████████| 483/483 [00:12<00:00, 39.00it/s, loss=1.05]\n"
     ]
    },
    {
     "name": "stdout",
     "output_type": "stream",
     "text": [
      "epoch: 9\n"
     ]
    },
    {
     "name": "stderr",
     "output_type": "stream",
     "text": [
      "train: 100%|████████████████████████████████████████████████████████████| 483/483 [00:12<00:00, 38.95it/s, loss=1.01]\n"
     ]
    },
    {
     "name": "stdout",
     "output_type": "stream",
     "text": [
      "inference embedding\n"
     ]
    },
    {
     "name": "stderr",
     "output_type": "stream",
     "text": [
      "user inference: 100%|██████████████████████████████████████████████████████████████████| 3/3 [00:00<00:00,  6.42it/s]\n",
      "item inference: 100%|██████████████████████████████████████████████████████████████████| 2/2 [00:00<00:00,  4.94it/s]\n"
     ]
    },
    {
     "name": "stdout",
     "output_type": "stream",
     "text": [
      "torch.Size([6040, 16]) torch.Size([3706, 16])\n",
      "evaluate embedding matching on test data\n",
      "matching for topk\n",
      "generate ground truth\n",
      "compute topk metrics\n",
      "defaultdict(<class 'list'>, {'NDCG': ['NDCG@100: 0.0266'], 'MRR': ['MRR@100: 0.0054'], 'Recall': ['Recall@100: 0.1334'], 'Hit': ['Hit@100: 0.1334'], 'Precision': ['Precision@100: 0.0013']})\n"
     ]
    }
   ],
   "source": [
    "#mode=1 means pair-wise learning\n",
    "trainer = MatchTrainer(model,\n",
    "                       mode=2,\n",
    "                       optimizer_params={\n",
    "                           \"lr\": learning_rate,\n",
    "                           \"weight_decay\": weight_decay\n",
    "                       },\n",
    "                       n_epoch=epoch,\n",
    "                       device=device,\n",
    "                       model_path=save_dir)\n",
    "\n",
    "train_dl, test_dl, item_dl = dg.generate_dataloader(test_user, all_item, batch_size=batch_size)\n",
    "trainer.fit(train_dl)\n",
    "\n",
    "print(\"inference embedding\")\n",
    "user_embedding = trainer.inference_embedding(model=model, mode=\"user\", data_loader=test_dl, model_path=save_dir)\n",
    "item_embedding = trainer.inference_embedding(model=model, mode=\"item\", data_loader=item_dl, model_path=save_dir)\n",
    "print(user_embedding.shape, item_embedding.shape)\n",
    "#torch.save(user_embedding.data.cpu(), save_dir + \"user_embedding.pth\")\n",
    "#torch.save(item_embedding.data.cpu(), save_dir + \"item_embedding.pth\")\n",
    "match_evaluation(user_embedding, item_embedding, test_user, all_item, topk=100)"
   ]
  },
  {
   "cell_type": "code",
   "execution_count": null,
   "id": "dc69d2cb",
   "metadata": {},
   "outputs": [],
   "source": []
  }
 ],
 "metadata": {
  "kernelspec": {
   "display_name": "pytorch",
   "language": "python",
   "name": "pytorch"
  },
  "language_info": {
   "codemirror_mode": {
    "name": "ipython",
    "version": 3
   },
   "file_extension": ".py",
   "mimetype": "text/x-python",
   "name": "python",
   "nbconvert_exporter": "python",
   "pygments_lexer": "ipython3",
   "version": "3.9.13"
  }
 },
 "nbformat": 4,
 "nbformat_minor": 5
}
