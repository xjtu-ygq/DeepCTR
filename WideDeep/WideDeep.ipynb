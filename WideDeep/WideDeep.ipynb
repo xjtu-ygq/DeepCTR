{
 "cells": [
  {
   "cell_type": "code",
   "execution_count": 1,
   "id": "7000ee75",
   "metadata": {},
   "outputs": [
    {
     "name": "stderr",
     "output_type": "stream",
     "text": [
      "/data0/ygq/anaconda3/envs/pytorch/lib/python3.9/site-packages/tqdm/auto.py:22: TqdmWarning: IProgress not found. Please update jupyter and ipywidgets. See https://ipywidgets.readthedocs.io/en/stable/user_install.html\n",
      "  from .autonotebook import tqdm as notebook_tqdm\n"
     ]
    }
   ],
   "source": [
    "import sys \n",
    "sys.path.append(\"..\")\n",
    "\n",
    "import numpy as np\n",
    "import pandas as pd\n",
    "import torch\n",
    "import torch.nn as nn\n",
    "from tqdm import tqdm\n",
    "from torch.utils.data import Dataset, DataLoader, random_split\n",
    "from sklearn.preprocessing import MinMaxScaler, LabelEncoder\n",
    "\n",
    "from WideDeep.data import get_criteo_data_dict  # 针对性修改\n",
    "from Tools.utils.data import DataGenerator\n",
    "from Tools.models.ranking import WideDeep, DeepFM, DCN\n",
    "# from Tools.models.ranking import WideDeep, DeepFM, DCN, DCNv2, FiBiNet, EDCN, DeepFFM, FatDeepFFM\n",
    "from Tools.trainers import CTRTrainer\n",
    "\n",
    "dataset_path = '../data/criteo.csv'\n",
    "model_name='widedeep'\n",
    "epoch = 10\n",
    "learning_rate = 1e-3\n",
    "batch_size=2048\n",
    "weight_decay=1e-3\n",
    "save_dir='./'\n",
    "seed=2023\n",
    "# device='cpu'\n",
    "device = torch.device(\"cuda\")"
   ]
  },
  {
   "cell_type": "code",
   "execution_count": 2,
   "id": "6c6f69ce",
   "metadata": {},
   "outputs": [
    {
     "name": "stdout",
     "output_type": "stream",
     "text": [
      "data load finished\n"
     ]
    },
    {
     "name": "stderr",
     "output_type": "stream",
     "text": [
      "100%|████████████████████████████████████████████████████████████████████████████████| 13/13 [00:01<00:00,  9.99it/s]\n",
      "100%|████████████████████████████████████████████████████████████████████████████████| 39/39 [00:00<00:00, 39.44it/s]"
     ]
    },
    {
     "name": "stdout",
     "output_type": "stream",
     "text": [
      "the samples of train : val : test are  70000 : 10000 : 20000\n"
     ]
    },
    {
     "name": "stderr",
     "output_type": "stream",
     "text": [
      "\n"
     ]
    }
   ],
   "source": [
    "# 数据处理\n",
    "torch.manual_seed(seed)\n",
    "dense_feas, sparse_feas, x, y = get_criteo_data_dict(dataset_path)\n",
    "\n",
    "dg = DataGenerator(x, y)\n",
    "train_dataloader, val_dataloader, test_dataloader = dg.generate_dataloader(split_ratio=[0.7, 0.1], batch_size=batch_size)"
   ]
  },
  {
   "cell_type": "code",
   "execution_count": 3,
   "id": "f9a029f4",
   "metadata": {},
   "outputs": [],
   "source": [
    "model = WideDeep(wide_features=sparse_feas, deep_features=dense_feas, mlp_params={\"dims\": [256, 128], \"dropout\": 0.2, \"activation\": \"relu\"})\n",
    "# model = DeepFM(deep_features=dense_feas, fm_features=sparse_feas, mlp_params={\"dims\": [256, 128], \"dropout\": 0.2, \"activation\": \"relu\"})\n",
    "# model = DCN(features=dense_feas + sparse_feas, n_cross_layers=3, mlp_params={\"dims\": [256, 128]})"
   ]
  },
  {
   "cell_type": "code",
   "execution_count": 4,
   "id": "f9fea878",
   "metadata": {},
   "outputs": [
    {
     "name": "stdout",
     "output_type": "stream",
     "text": [
      "epoch: 0\n"
     ]
    },
    {
     "name": "stderr",
     "output_type": "stream",
     "text": [
      "train: 100%|█████████████████████████████████████████████████████████████| 35/35 [00:06<00:00,  5.38it/s, loss=0.507]\n",
      "validation: 100%|██████████████████████████████████████████████████████████████████████| 5/5 [00:00<00:00,  5.04it/s]\n"
     ]
    },
    {
     "name": "stdout",
     "output_type": "stream",
     "text": [
      "epoch: 0 validation: auc: 0.7231835139586751\n",
      "epoch: 1\n"
     ]
    },
    {
     "name": "stderr",
     "output_type": "stream",
     "text": [
      "train: 100%|█████████████████████████████████████████████████████████████| 35/35 [00:05<00:00,  6.84it/s, loss=0.491]\n",
      "validation: 100%|██████████████████████████████████████████████████████████████████████| 5/5 [00:00<00:00,  5.12it/s]\n"
     ]
    },
    {
     "name": "stdout",
     "output_type": "stream",
     "text": [
      "epoch: 1 validation: auc: 0.7406176682783154\n",
      "epoch: 2\n"
     ]
    },
    {
     "name": "stderr",
     "output_type": "stream",
     "text": [
      "train: 100%|█████████████████████████████████████████████████████████████| 35/35 [00:04<00:00,  7.41it/s, loss=0.471]\n",
      "validation: 100%|██████████████████████████████████████████████████████████████████████| 5/5 [00:01<00:00,  4.77it/s]\n"
     ]
    },
    {
     "name": "stdout",
     "output_type": "stream",
     "text": [
      "epoch: 2 validation: auc: 0.7541240533165524\n",
      "epoch: 3\n"
     ]
    },
    {
     "name": "stderr",
     "output_type": "stream",
     "text": [
      "train: 100%|██████████████████████████████████████████████████████████████| 35/35 [00:04<00:00,  7.47it/s, loss=0.46]\n",
      "validation: 100%|██████████████████████████████████████████████████████████████████████| 5/5 [00:00<00:00,  5.13it/s]\n"
     ]
    },
    {
     "name": "stdout",
     "output_type": "stream",
     "text": [
      "epoch: 3 validation: auc: 0.7620147308000232\n",
      "epoch: 4\n"
     ]
    },
    {
     "name": "stderr",
     "output_type": "stream",
     "text": [
      "train: 100%|█████████████████████████████████████████████████████████████| 35/35 [00:04<00:00,  7.08it/s, loss=0.458]\n",
      "validation: 100%|██████████████████████████████████████████████████████████████████████| 5/5 [00:01<00:00,  4.66it/s]\n"
     ]
    },
    {
     "name": "stdout",
     "output_type": "stream",
     "text": [
      "epoch: 4 validation: auc: 0.7689109627166737\n",
      "epoch: 5\n"
     ]
    },
    {
     "name": "stderr",
     "output_type": "stream",
     "text": [
      "train: 100%|█████████████████████████████████████████████████████████████| 35/35 [00:04<00:00,  7.30it/s, loss=0.453]\n",
      "validation: 100%|██████████████████████████████████████████████████████████████████████| 5/5 [00:01<00:00,  4.92it/s]\n"
     ]
    },
    {
     "name": "stdout",
     "output_type": "stream",
     "text": [
      "epoch: 5 validation: auc: 0.7721655605950506\n",
      "epoch: 6\n"
     ]
    },
    {
     "name": "stderr",
     "output_type": "stream",
     "text": [
      "train: 100%|█████████████████████████████████████████████████████████████| 35/35 [00:04<00:00,  7.40it/s, loss=0.454]\n",
      "validation: 100%|██████████████████████████████████████████████████████████████████████| 5/5 [00:00<00:00,  5.08it/s]\n"
     ]
    },
    {
     "name": "stdout",
     "output_type": "stream",
     "text": [
      "epoch: 6 validation: auc: 0.772526404852637\n",
      "epoch: 7\n"
     ]
    },
    {
     "name": "stderr",
     "output_type": "stream",
     "text": [
      "train: 100%|█████████████████████████████████████████████████████████████| 35/35 [00:04<00:00,  7.43it/s, loss=0.442]\n",
      "validation: 100%|██████████████████████████████████████████████████████████████████████| 5/5 [00:01<00:00,  4.80it/s]\n"
     ]
    },
    {
     "name": "stdout",
     "output_type": "stream",
     "text": [
      "epoch: 7 validation: auc: 0.7747105498442344\n",
      "epoch: 8\n"
     ]
    },
    {
     "name": "stderr",
     "output_type": "stream",
     "text": [
      "train: 100%|█████████████████████████████████████████████████████████████| 35/35 [00:05<00:00,  6.79it/s, loss=0.444]\n",
      "validation: 100%|██████████████████████████████████████████████████████████████████████| 5/5 [00:01<00:00,  4.08it/s]\n"
     ]
    },
    {
     "name": "stdout",
     "output_type": "stream",
     "text": [
      "epoch: 8 validation: auc: 0.7775881875423749\n",
      "epoch: 9\n"
     ]
    },
    {
     "name": "stderr",
     "output_type": "stream",
     "text": [
      "train: 100%|█████████████████████████████████████████████████████████████| 35/35 [00:04<00:00,  7.11it/s, loss=0.445]\n",
      "validation: 100%|██████████████████████████████████████████████████████████████████████| 5/5 [00:01<00:00,  4.77it/s]\n"
     ]
    },
    {
     "name": "stdout",
     "output_type": "stream",
     "text": [
      "epoch: 9 validation: auc: 0.7748450938079351\n"
     ]
    },
    {
     "name": "stderr",
     "output_type": "stream",
     "text": [
      "validation: 100%|████████████████████████████████████████████████████████████████████| 10/10 [00:01<00:00,  5.87it/s]"
     ]
    },
    {
     "name": "stdout",
     "output_type": "stream",
     "text": [
      "test auc: 0.7655021653502974\n"
     ]
    },
    {
     "name": "stderr",
     "output_type": "stream",
     "text": [
      "\n"
     ]
    }
   ],
   "source": [
    "ctr_trainer = CTRTrainer(model, optimizer_params={\"lr\": learning_rate, \"weight_decay\": weight_decay}, n_epoch=epoch, earlystop_patience=10, device=device, model_path=save_dir)\n",
    "#scheduler_fn=torch.optim.lr_scheduler.StepLR,scheduler_params={\"step_size\": 2,\"gamma\": 0.8},\n",
    "ctr_trainer.fit(train_dataloader, val_dataloader)\n",
    "auc = ctr_trainer.evaluate(ctr_trainer.model, test_dataloader)\n",
    "print(f'test auc: {auc}')"
   ]
  },
  {
   "cell_type": "code",
   "execution_count": null,
   "id": "cd3e05a0",
   "metadata": {},
   "outputs": [],
   "source": []
  }
 ],
 "metadata": {
  "kernelspec": {
   "display_name": "pytorch",
   "language": "python",
   "name": "pytorch"
  },
  "language_info": {
   "codemirror_mode": {
    "name": "ipython",
    "version": 3
   },
   "file_extension": ".py",
   "mimetype": "text/x-python",
   "name": "python",
   "nbconvert_exporter": "python",
   "pygments_lexer": "ipython3",
   "version": "3.9.13"
  }
 },
 "nbformat": 4,
 "nbformat_minor": 5
}
